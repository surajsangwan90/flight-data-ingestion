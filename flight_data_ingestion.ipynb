{
 "cells": [
  {
   "cell_type": "markdown",
   "metadata": {
    "application/vnd.databricks.v1+cell": {
     "cellMetadata": {},
     "inputWidgets": {},
     "nuid": "6c9102e5-bf5c-4671-8f12-3def2e617dff",
     "showTitle": false,
     "tableResultSettingsMap": {},
     "title": ""
    }
   },
   "source": [
    "## Import Libraries and create spark session"
   ]
  },
  {
   "cell_type": "code",
   "execution_count": 0,
   "metadata": {
    "application/vnd.databricks.v1+cell": {
     "cellMetadata": {
      "byteLimit": 2048000,
      "rowLimit": 10000
     },
     "inputWidgets": {},
     "nuid": "8e1d1b6c-2f8a-4ab1-9fdf-b243e33538b7",
     "showTitle": false,
     "tableResultSettingsMap": {},
     "title": ""
    }
   },
   "outputs": [],
   "source": [
    "from pyspark.sql import SparkSession\n",
    "from pyspark.sql.functions import col, unix_timestamp,round\n",
    "\n",
    "#Create Spark Session\n",
    "spark=SparkSession.builder.appName('Flight Data Analysis').getOrCreate()\n"
   ]
  },
  {
   "cell_type": "markdown",
   "metadata": {
    "application/vnd.databricks.v1+cell": {
     "cellMetadata": {},
     "inputWidgets": {},
     "nuid": "6a44e994-6ba4-47d6-a710-b75d924ee25f",
     "showTitle": false,
     "tableResultSettingsMap": {},
     "title": ""
    }
   },
   "source": [
    "### Load flight data in Datframe"
   ]
  },
  {
   "cell_type": "code",
   "execution_count": 0,
   "metadata": {
    "application/vnd.databricks.v1+cell": {
     "cellMetadata": {
      "byteLimit": 2048000,
      "rowLimit": 10000
     },
     "inputWidgets": {},
     "nuid": "b044cf1d-6468-4640-b30d-39685a211616",
     "showTitle": false,
     "tableResultSettingsMap": {},
     "title": ""
    }
   },
   "outputs": [],
   "source": [
    "# file_path=\"C:\\\\suraj\\\\Documents\\\\Flight_Data.csv\"\n",
    "# flight_df=spark.read.csv(file_path,inferSchema=True,header=True)\n",
    "file_path = \"dbfs:/FileStore/tables/Flight_Data.csv\"\n",
    "flight_df = spark.read.csv(file_path, inferSchema=True, header=True)"
   ]
  },
  {
   "cell_type": "markdown",
   "metadata": {
    "application/vnd.databricks.v1+cell": {
     "cellMetadata": {},
     "inputWidgets": {},
     "nuid": "29662ad9-aea2-4c95-b1e3-8c05cc19fafb",
     "showTitle": false,
     "tableResultSettingsMap": {},
     "title": ""
    }
   },
   "source": [
    "#### print schema of the dataframe"
   ]
  },
  {
   "cell_type": "code",
   "execution_count": 0,
   "metadata": {
    "application/vnd.databricks.v1+cell": {
     "cellMetadata": {
      "byteLimit": 2048000,
      "rowLimit": 10000
     },
     "inputWidgets": {},
     "nuid": "6f2a57d4-c0ef-4cbd-bc1c-164bb71c2047",
     "showTitle": false,
     "tableResultSettingsMap": {},
     "title": ""
    }
   },
   "outputs": [
    {
     "output_type": "stream",
     "name": "stdout",
     "output_type": "stream",
     "text": [
      "root\n |-- flight_id: string (nullable = true)\n |-- airline_code: string (nullable = true)\n |-- flight_number: integer (nullable = true)\n |-- origin_airport: string (nullable = true)\n |-- destination_airport: string (nullable = true)\n |-- aircraft_type: string (nullable = true)\n |-- departure_time: timestamp (nullable = true)\n |-- arrival_time: timestamp (nullable = true)\n |-- passenger_count: integer (nullable = true)\n |-- flight_distance: integer (nullable = true)\n |-- ticket_price: double (nullable = true)\n |-- flight_status: string (nullable = true)\n\n"
     ]
    }
   ],
   "source": [
    "flight_df.printSchema()"
   ]
  },
  {
   "cell_type": "markdown",
   "metadata": {
    "application/vnd.databricks.v1+cell": {
     "cellMetadata": {},
     "inputWidgets": {},
     "nuid": "b3f26565-2ab8-427a-92ac-674d1498e4e7",
     "showTitle": false,
     "tableResultSettingsMap": {},
     "title": ""
    }
   },
   "source": [
    "#### Enforce schema"
   ]
  },
  {
   "cell_type": "code",
   "execution_count": 0,
   "metadata": {
    "application/vnd.databricks.v1+cell": {
     "cellMetadata": {
      "byteLimit": 2048000,
      "rowLimit": 10000
     },
     "inputWidgets": {},
     "nuid": "ebea6310-5109-408c-b1ac-4cb931039ec6",
     "showTitle": false,
     "tableResultSettingsMap": {},
     "title": ""
    }
   },
   "outputs": [],
   "source": [
    "from pyspark.sql.functions import col\n",
    "from pyspark.sql.types import IntegerType, StringType, DoubleType, TimestampType\n",
    "\n",
    "flight_df = flight_df.select(\n",
    "    col(\"flight_id\").cast(StringType()),\n",
    "    col(\"airline_code\").cast(StringType()),\n",
    "    col(\"flight_number\").cast(IntegerType()),\n",
    "    col(\"origin_airport\").cast(StringType()),\n",
    "    col(\"destination_airport\").cast(StringType()),\n",
    "    col(\"aircraft_type\").cast(StringType()),\n",
    "    col(\"departure_time\").cast(TimestampType()),\n",
    "    col(\"arrival_time\").cast(TimestampType()),\n",
    "    col(\"passenger_count\").cast(IntegerType()),\n",
    "    col(\"flight_distance\").cast(IntegerType()),\n",
    "    col(\"ticket_price\").cast(DoubleType()),\n",
    "    col(\"flight_status\").cast(StringType())\n",
    ")\n",
    "\n"
   ]
  },
  {
   "cell_type": "markdown",
   "metadata": {
    "application/vnd.databricks.v1+cell": {
     "cellMetadata": {},
     "inputWidgets": {},
     "nuid": "f3f97f9b-b5e9-453e-abb6-74f91c42e9d6",
     "showTitle": false,
     "tableResultSettingsMap": {},
     "title": ""
    }
   },
   "source": [
    "#### display few records"
   ]
  },
  {
   "cell_type": "code",
   "execution_count": 0,
   "metadata": {
    "application/vnd.databricks.v1+cell": {
     "cellMetadata": {
      "byteLimit": 2048000,
      "rowLimit": 10000
     },
     "inputWidgets": {},
     "nuid": "8d371865-635d-419a-b199-142647b148a6",
     "showTitle": false,
     "tableResultSettingsMap": {},
     "title": ""
    }
   },
   "outputs": [
    {
     "output_type": "stream",
     "name": "stdout",
     "output_type": "stream",
     "text": [
      "+---------+------------+-------------+--------------+-------------------+-------------+-------------------+-------------------+---------------+---------------+------------+-------------+\n|flight_id|airline_code|flight_number|origin_airport|destination_airport|aircraft_type|departure_time     |arrival_time       |passenger_count|flight_distance|ticket_price|flight_status|\n+---------+------------+-------------+--------------+-------------------+-------------+-------------------+-------------------+---------------+---------------+------------+-------------+\n|FL001    |NZ          |101          |AKL           |CHC                |Airbus A320  |2024-01-15 08:00:00|2024-01-15 09:20:00|148            |539            |159.99      |On Time      |\n|FL002    |JQ          |201          |WLG           |AKL                |Airbus A320  |2024-01-15 09:15:00|2024-01-15 10:30:00|156            |484            |89.99       |Delayed      |\n|FL003    |NZ          |301          |CHC           |AKL                |Boeing 737   |2024-01-15 10:30:00|2024-01-15 11:50:00|142            |539            |149.99      |On Time      |\n|FL004    |VA          |401          |DUD           |WLG                |ATR 72       |2024-01-15 12:00:00|2024-01-15 13:45:00|68             |447            |119.99      |On Time      |\n|FL005    |NZ          |501          |AKL           |WLG                |Airbus A321  |2024-01-15 14:30:00|2024-01-15 15:45:00|163            |484            |109.99      |Delayed      |\n|FL006    |JQ          |601          |ROT           |AKL                |Airbus A320  |2024-01-15 16:00:00|2024-01-15 17:10:00|134            |230            |79.99       |On Time      |\n|FL007    |NZ          |701          |WLG           |CHC                |Boeing 737   |2024-01-15 18:45:00|2024-01-15 20:10:00|156            |300            |129.99      |On Time      |\n|FL008    |VA          |801          |HLZ           |WLG                |ATR 72       |2024-01-15 20:00:00|2024-01-15 21:30:00|58             |428            |99.99       |On Time      |\n|FL009    |NZ          |151          |AKL           |DUD                |Airbus A320  |2024-01-16 07:30:00|2024-01-16 09:15:00|159            |986            |199.99      |Delayed      |\n|FL010    |JQ          |251          |WLG           |CHC                |Airbus A320  |2024-01-16 09:00:00|2024-01-16 10:25:00|168            |300            |89.99       |On Time      |\n+---------+------------+-------------+--------------+-------------------+-------------+-------------------+-------------------+---------------+---------------+------------+-------------+\nonly showing top 10 rows\n\n"
     ]
    }
   ],
   "source": [
    "flight_df.show(10,truncate=False)"
   ]
  },
  {
   "cell_type": "markdown",
   "metadata": {
    "application/vnd.databricks.v1+cell": {
     "cellMetadata": {},
     "inputWidgets": {},
     "nuid": "40d50b8a-39f7-4e4c-ad77-fbacc4a10716",
     "showTitle": false,
     "tableResultSettingsMap": {},
     "title": ""
    }
   },
   "source": [
    "#### Total number of records"
   ]
  },
  {
   "cell_type": "code",
   "execution_count": 0,
   "metadata": {
    "application/vnd.databricks.v1+cell": {
     "cellMetadata": {
      "byteLimit": 2048000,
      "rowLimit": 10000
     },
     "inputWidgets": {},
     "nuid": "a44595b9-03cb-4e32-94b0-cd41c47104d5",
     "showTitle": false,
     "tableResultSettingsMap": {},
     "title": ""
    }
   },
   "outputs": [
    {
     "output_type": "stream",
     "name": "stdout",
     "output_type": "stream",
     "text": [
      "Out[19]: 50"
     ]
    }
   ],
   "source": [
    "flight_df.count()"
   ]
  },
  {
   "cell_type": "markdown",
   "metadata": {
    "application/vnd.databricks.v1+cell": {
     "cellMetadata": {},
     "inputWidgets": {},
     "nuid": "faa242c6-3366-44e4-beb8-1ae31f467aed",
     "showTitle": false,
     "tableResultSettingsMap": {},
     "title": ""
    }
   },
   "source": [
    "### Check null values in each column"
   ]
  },
  {
   "cell_type": "code",
   "execution_count": 0,
   "metadata": {
    "application/vnd.databricks.v1+cell": {
     "cellMetadata": {
      "byteLimit": 2048000,
      "rowLimit": 10000
     },
     "inputWidgets": {},
     "nuid": "e8fb7075-01eb-4d28-8ce9-29fd4c0b9bfd",
     "showTitle": false,
     "tableResultSettingsMap": {},
     "title": ""
    }
   },
   "outputs": [
    {
     "output_type": "stream",
     "name": "stdout",
     "output_type": "stream",
     "text": [
      "+---------+------------+-------------+--------------+-------------------+-------------+--------------+------------+---------------+---------------+------------+-------------+\n|flight_id|airline_code|flight_number|origin_airport|destination_airport|aircraft_type|departure_time|arrival_time|passenger_count|flight_distance|ticket_price|flight_status|\n+---------+------------+-------------+--------------+-------------------+-------------+--------------+------------+---------------+---------------+------------+-------------+\n|        0|           0|            0|             0|                  0|            0|             0|           0|              0|              0|           0|            0|\n+---------+------------+-------------+--------------+-------------------+-------------+--------------+------------+---------------+---------------+------------+-------------+\n\n"
     ]
    }
   ],
   "source": [
    "from pyspark.sql.functions import col, sum\n",
    "flight_df.select([ sum(col(c).isNull().cast('int')).alias(c) for c in flight_df.columns]).show()"
   ]
  },
  {
   "cell_type": "markdown",
   "metadata": {
    "application/vnd.databricks.v1+cell": {
     "cellMetadata": {},
     "inputWidgets": {},
     "nuid": "7e28c891-4d91-4ebe-84d6-74a75e732d93",
     "showTitle": false,
     "tableResultSettingsMap": {},
     "title": ""
    }
   },
   "source": [
    "### Flagging Bad recordss (Instead of dropping)"
   ]
  },
  {
   "cell_type": "code",
   "execution_count": 0,
   "metadata": {
    "application/vnd.databricks.v1+cell": {
     "cellMetadata": {
      "byteLimit": 2048000,
      "rowLimit": 10000
     },
     "inputWidgets": {},
     "nuid": "cc51c92a-abd2-4aef-9b48-97e92df25ce2",
     "showTitle": false,
     "tableResultSettingsMap": {},
     "title": ""
    }
   },
   "outputs": [],
   "source": [
    "from pyspark.sql.functions import when\n",
    "\n",
    "flight_df = flight_df.withColumn(\n",
    "    \"is_valid\",\n",
    "    when(\n",
    "        (col(\"passenger_count\") > 0) & (col(\"arrival_time\") > col(\"departure_time\")),\n",
    "        True\n",
    "    ).otherwise(False)\n",
    ")\n",
    "\n",
    "\n"
   ]
  },
  {
   "cell_type": "code",
   "execution_count": 0,
   "metadata": {
    "application/vnd.databricks.v1+cell": {
     "cellMetadata": {
      "byteLimit": 2048000,
      "rowLimit": 10000
     },
     "inputWidgets": {},
     "nuid": "1a5b56b5-0cf7-4d4c-bff6-736d72216b4d",
     "showTitle": false,
     "tableResultSettingsMap": {},
     "title": ""
    }
   },
   "outputs": [
    {
     "output_type": "stream",
     "name": "stdout",
     "output_type": "stream",
     "text": [
      "50\nOut[25]: 50"
     ]
    }
   ],
   "source": [
    "flight_df_cleaned=flight_df.filter(col('is_valid')==True)\n",
    "print(flight_df_cleaned.count())\n",
    "flight_df.count()"
   ]
  },
  {
   "cell_type": "markdown",
   "metadata": {
    "application/vnd.databricks.v1+cell": {
     "cellMetadata": {},
     "inputWidgets": {},
     "nuid": "0ee131c0-bf09-4c68-ad00-9dacff40993e",
     "showTitle": false,
     "tableResultSettingsMap": {},
     "title": ""
    }
   },
   "source": [
    "#### Derive a new column flight_duration_hours"
   ]
  },
  {
   "cell_type": "code",
   "execution_count": 0,
   "metadata": {
    "application/vnd.databricks.v1+cell": {
     "cellMetadata": {
      "byteLimit": 2048000,
      "rowLimit": 10000
     },
     "inputWidgets": {},
     "nuid": "a73a34f9-4f26-4673-b505-094d24081f73",
     "showTitle": false,
     "tableResultSettingsMap": {},
     "title": ""
    }
   },
   "outputs": [],
   "source": [
    "df_with_duration = flight_df_cleaned.withColumn(\n",
    "    \"flight_duration_hours\",\n",
    "    round(\n",
    "        (unix_timestamp(\"arrival_time\") - unix_timestamp(\"departure_time\")) / 3600, 2\n",
    "    )\n",
    ")"
   ]
  },
  {
   "cell_type": "code",
   "execution_count": 0,
   "metadata": {
    "application/vnd.databricks.v1+cell": {
     "cellMetadata": {
      "byteLimit": 2048000,
      "rowLimit": 10000
     },
     "inputWidgets": {},
     "nuid": "aa83161e-563a-49ee-af27-7b1c47f8debe",
     "showTitle": false,
     "tableResultSettingsMap": {},
     "title": ""
    }
   },
   "outputs": [
    {
     "output_type": "stream",
     "name": "stdout",
     "output_type": "stream",
     "text": [
      "+-------------------+-------------------+---------------------+\n|     departure_time|       arrival_time|flight_duration_hours|\n+-------------------+-------------------+---------------------+\n|2024-01-15 08:00:00|2024-01-15 09:20:00|                 1.33|\n|2024-01-15 09:15:00|2024-01-15 10:30:00|                 1.25|\n|2024-01-15 10:30:00|2024-01-15 11:50:00|                 1.33|\n|2024-01-15 12:00:00|2024-01-15 13:45:00|                 1.75|\n|2024-01-15 14:30:00|2024-01-15 15:45:00|                 1.25|\n+-------------------+-------------------+---------------------+\nonly showing top 5 rows\n\n"
     ]
    }
   ],
   "source": [
    "df_with_duration.select(\"departure_time\", \"arrival_time\", \"flight_duration_hours\").show(5)"
   ]
  },
  {
   "cell_type": "code",
   "execution_count": 0,
   "metadata": {
    "application/vnd.databricks.v1+cell": {
     "cellMetadata": {},
     "inputWidgets": {},
     "nuid": "7e516813-b911-4bfb-a2e5-d40d20ef0d97",
     "showTitle": false,
     "tableResultSettingsMap": {},
     "title": ""
    }
   },
   "outputs": [],
   "source": []
  }
 ],
 "metadata": {
  "application/vnd.databricks.v1+notebook": {
   "computePreferences": null,
   "dashboards": [],
   "environmentMetadata": {
    "base_environment": "",
    "environment_version": "1"
   },
   "inputWidgetPreferences": null,
   "language": "python",
   "notebookMetadata": {
    "pythonIndentUnit": 4
   },
   "notebookName": "flight_data_ingestion",
   "widgets": {}
  }
 },
 "nbformat": 4,
 "nbformat_minor": 0
}